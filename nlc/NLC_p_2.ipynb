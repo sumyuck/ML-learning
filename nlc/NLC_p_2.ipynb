{
  "nbformat": 4,
  "nbformat_minor": 0,
  "metadata": {
    "colab": {
      "provenance": [],
      "authorship_tag": "ABX9TyOKarZSNQNxT+fnRO6/IQq0",
      "include_colab_link": true
    },
    "kernelspec": {
      "name": "python3",
      "display_name": "Python 3"
    },
    "language_info": {
      "name": "python"
    }
  },
  "cells": [
    {
      "cell_type": "markdown",
      "metadata": {
        "id": "view-in-github",
        "colab_type": "text"
      },
      "source": [
        "<a href=\"https://colab.research.google.com/github/sumyuck/ML-learning/blob/main/nlc/NLC_p_2.ipynb\" target=\"_parent\"><img src=\"https://colab.research.google.com/assets/colab-badge.svg\" alt=\"Open In Colab\"/></a>"
      ]
    },
    {
      "cell_type": "code",
      "execution_count": null,
      "metadata": {
        "id": "3PcToWCVarxc"
      },
      "outputs": [],
      "source": [
        "import torch\n",
        "import numpy as np"
      ]
    },
    {
      "cell_type": "code",
      "source": [
        "#Tensors\n",
        "\n",
        "data = [[1, 2],[3, 4]]\n",
        "x_data = torch.tensor(data)\n",
        "print(f\"Tensor  : \\n {x_data} \\n\")\n",
        "\n",
        "np_array = np.array(data)\n",
        "x_np = torch.from_numpy(np_array)\n",
        "print(f\"Tensor  : \\n {x_np} \\n\")\n",
        "\n",
        "x_ones = torch.ones_like(x_data)\n",
        "print(f\"Ones Tensor: \\n {x_ones} \\n\")\n",
        "\n",
        "x_rand = torch.rand_like(x_data, dtype=torch.float)\n",
        "print(f\"Random Tensor: \\n {x_rand} \\n\")\n",
        "\n",
        "#Attributes of Tensors\n",
        "\n",
        "tensor = torch.rand(3,4)\n",
        "\n",
        "print(f\"Shape of tensor: {tensor.shape}\")\n",
        "print(f\"Datatype of tensor: {tensor.dtype}\")\n",
        "print(f\"Device tensor is stored on: {tensor.device}\\n\")\n",
        "\n",
        "#Operations on Tensors\n",
        "\n",
        "tensor = torch.ones(4, 4)\n",
        "print(f\"First row: {tensor[0]}\")\n",
        "print(f\"First column: {tensor[:, 0]}\")\n",
        "print(f\"Last column: {tensor[..., -1]}\")\n",
        "tensor[:,1] = 0\n",
        "print(tensor)\n",
        "print(\"\\n\")\n",
        "\n",
        "# This computes the matrix multiplication between two tensors\n",
        "# ``tensor.T`` returns the transpose of a tensor\n",
        "y1 = tensor @ tensor.T\n",
        "y2 = tensor.matmul(tensor.T)\n",
        "y3 = torch.rand_like(y1)\n",
        "torch.matmul(tensor, tensor.T, out=y3)\n",
        "print(f\"y3 : {y3}\")\n",
        "print(\"\\n\")\n",
        "\n",
        "\n",
        "# This computes the element-wise product\n",
        "z1 = tensor * tensor\n",
        "z2 = tensor.mul(tensor)\n",
        "z3 = torch.rand_like(tensor)\n",
        "torch.mul(tensor, tensor, out=z3)\n",
        "print(f\"z3 : {z3}\")\n",
        "print(\"\\n\")\n",
        "\n",
        "agg = tensor.sum()\n",
        "agg_item = agg.item()\n",
        "print(agg_item, type(agg_item))\n",
        "print(\"\\n\")\n",
        "\n",
        "print(f\"{tensor} \\n\")\n",
        "tensor.add_(5)\n",
        "print(tensor)\n",
        "print(\"\\n\")"
      ],
      "metadata": {
        "colab": {
          "base_uri": "https://localhost:8080/"
        },
        "id": "6-DNn5mua2VU",
        "outputId": "711956bb-6b50-41ac-ddf4-b598bbbde8c5"
      },
      "execution_count": null,
      "outputs": [
        {
          "output_type": "stream",
          "name": "stdout",
          "text": [
            "Tensor  : \n",
            " tensor([[1, 2],\n",
            "        [3, 4]]) \n",
            "\n",
            "Tensor  : \n",
            " tensor([[1, 2],\n",
            "        [3, 4]]) \n",
            "\n",
            "Ones Tensor: \n",
            " tensor([[1, 1],\n",
            "        [1, 1]]) \n",
            "\n",
            "Random Tensor: \n",
            " tensor([[0.0230, 0.2833],\n",
            "        [0.6871, 0.6731]]) \n",
            "\n",
            "Shape of tensor: torch.Size([3, 4])\n",
            "Datatype of tensor: torch.float32\n",
            "Device tensor is stored on: cpu\n",
            "\n",
            "First row: tensor([1., 1., 1., 1.])\n",
            "First column: tensor([1., 1., 1., 1.])\n",
            "Last column: tensor([1., 1., 1., 1.])\n",
            "tensor([[1., 0., 1., 1.],\n",
            "        [1., 0., 1., 1.],\n",
            "        [1., 0., 1., 1.],\n",
            "        [1., 0., 1., 1.]])\n",
            "\n",
            "\n",
            "y3 : tensor([[3., 3., 3., 3.],\n",
            "        [3., 3., 3., 3.],\n",
            "        [3., 3., 3., 3.],\n",
            "        [3., 3., 3., 3.]])\n",
            "\n",
            "\n",
            "z3 : tensor([[1., 0., 1., 1.],\n",
            "        [1., 0., 1., 1.],\n",
            "        [1., 0., 1., 1.],\n",
            "        [1., 0., 1., 1.]])\n",
            "\n",
            "\n",
            "12.0 <class 'float'>\n",
            "\n",
            "\n",
            "tensor([[1., 0., 1., 1.],\n",
            "        [1., 0., 1., 1.],\n",
            "        [1., 0., 1., 1.],\n",
            "        [1., 0., 1., 1.]]) \n",
            "\n",
            "tensor([[6., 5., 6., 6.],\n",
            "        [6., 5., 6., 6.],\n",
            "        [6., 5., 6., 6.],\n",
            "        [6., 5., 6., 6.]])\n",
            "\n",
            "\n"
          ]
        }
      ]
    },
    {
      "cell_type": "code",
      "source": [
        "#Datasets & DataLoaders\n",
        "\n",
        "import torch\n",
        "from torch.utils.data import Dataset\n",
        "from torchvision import datasets\n",
        "from torchvision.transforms import ToTensor\n",
        "import matplotlib.pyplot as plt\n",
        "\n",
        "\n",
        "training_data = datasets.CIFAR10(\n",
        "    root=\"data\",\n",
        "    train=True,\n",
        "    download=True,\n",
        "    transform=ToTensor()\n",
        ")\n",
        "\n",
        "test_data = datasets.CIFAR10(\n",
        "    root=\"data\",\n",
        "    train=False,\n",
        "    download=True,\n",
        "    transform=ToTensor()\n",
        ")"
      ],
      "metadata": {
        "id": "JpIel_qge3jm"
      },
      "execution_count": null,
      "outputs": []
    },
    {
      "cell_type": "code",
      "source": [
        "#Iterating and Visualizing the Dataset\n",
        "\n",
        "labels_map = {\n",
        "    0: \"airplane\",\n",
        "    1: \"automobile\",\n",
        "    2: \"bird\",\n",
        "    3: \"cat\",\n",
        "    4: \"deer\",\n",
        "    5: \"dog\",\n",
        "    6: \"frog\",\n",
        "    7: \"horse\",\n",
        "    8: \"ship\",\n",
        "    9: \"truck\",\n",
        "}\n",
        "figure = plt.figure(figsize=(8, 8))\n",
        "cols, rows = 3, 3\n",
        "for i in range(1, cols * rows + 1):\n",
        "    sample_idx = torch.randint(len(training_data), size=(1,)).item()\n",
        "    img, label = training_data[sample_idx]\n",
        "    figure.add_subplot(rows, cols, i)\n",
        "    plt.title(labels_map[label])\n",
        "    plt.axis(\"off\")\n",
        "    plt.imshow(img.permute(1, 2, 0))\n",
        "plt.show()"
      ],
      "metadata": {
        "colab": {
          "base_uri": "https://localhost:8080/",
          "height": 675
        },
        "id": "ccscY-Dofakt",
        "outputId": "a09d5983-8816-4ec4-ffe3-f6949750c598"
      },
      "execution_count": null,
      "outputs": [
        {
          "output_type": "display_data",
          "data": {
            "text/plain": [
              "<Figure size 800x800 with 9 Axes>"
            ],
            "image/png": "[encoded data removed]"
          },
          "metadata": {}
        }
      ]
    },
    {
      "cell_type": "code",
      "source": [
        "#Creating a Custom Dataset\n",
        "\n",
        "import os\n",
        "import pandas as pd\n",
        "from torchvision.io import decode_image\n",
        "\n",
        "class CustomImageDataset(Dataset):\n",
        "    def __init__(self, annotations_file, img_dir, transform=None, target_transform=None):\n",
        "        self.img_labels = pd.read_csv(annotations_file)\n",
        "        self.img_dir = img_dir\n",
        "        self.transform = transform\n",
        "        self.target_transform = target_transform\n",
        "\n",
        "    def __len__(self):\n",
        "        return len(self.img_labels)\n",
        "\n",
        "    def __getitem__(self, idx):\n",
        "        img_path = os.path.join(self.img_dir, self.img_labels.iloc[idx, 0])\n",
        "        image = decode_image(img_path)\n",
        "        label = self.img_labels.iloc[idx, 1]\n",
        "        if self.transform:\n",
        "            image = self.transform(image)\n",
        "        if self.target_transform:\n",
        "            label = self.target_transform(label)\n",
        "        return image, label"
      ],
      "metadata": {
        "id": "G0NShUref_3d"
      },
      "execution_count": null,
      "outputs": []
    },
    {
      "cell_type": "code",
      "source": [
        "#Preparing data for training with DataLoaders\n",
        "\n",
        "from torch.utils.data import DataLoader\n",
        "\n",
        "train_dataloader = DataLoader(training_data, batch_size=64, shuffle=True)\n",
        "test_dataloader = DataLoader(test_data, batch_size=64, shuffle=True)"
      ],
      "metadata": {
        "id": "kW98aymxhK3Q"
      },
      "execution_count": null,
      "outputs": []
    },
    {
      "cell_type": "code",
      "source": [
        "#Iterate through the DataLoader\n",
        "\n",
        "train_features, train_labels = next(iter(train_dataloader))\n",
        "print(f\"Feature batch shape: {train_features.size()}\")\n",
        "print(f\"Labels batch shape: {train_labels.size()}\")\n",
        "img = train_features[0].permute(1, 2, 0)\n",
        "label = train_labels[0]\n",
        "plt.imshow(img)\n",
        "plt.show()\n",
        "print(f\"Label: {labels_map[label.item()]}\")"
      ],
      "metadata": {
        "colab": {
          "base_uri": "https://localhost:8080/",
          "height": 484
        },
        "id": "crFc1KP8hQOB",
        "outputId": "e06ed496-008e-471f-e4c7-62bee5a69380"
      },
      "execution_count": null,
      "outputs": [
        {
          "output_type": "stream",
          "name": "stdout",
          "text": [
            "Feature batch shape: torch.Size([64, 3, 32, 32])\n",
            "Labels batch shape: torch.Size([64])\n"
          ]
        },
        {
          "output_type": "display_data",
          "data": {
            "text/plain": [
              "<Figure size 640x480 with 1 Axes>"
            ],
            "image/png": "[encoded data removed]"
          },
          "metadata": {}
        },
        {
          "output_type": "stream",
          "name": "stdout",
          "text": [
            "Label: automobile\n"
          ]
        }
      ]
    },
    {
      "cell_type": "code",
      "source": [
        "#Transforms\n",
        "\n",
        "import torch\n",
        "from torchvision import datasets\n",
        "from torchvision.transforms import ToTensor, Lambda\n",
        "\n",
        "ds = datasets.CIFAR10(\n",
        "    root=\"data\",\n",
        "    train=True,\n",
        "    download=True,\n",
        "    transform=ToTensor(),\n",
        "    target_transform=Lambda(lambda y: torch.zeros(10, dtype=torch.float).scatter_(0, torch.tensor(y), value=1))\n",
        ")"
      ],
      "metadata": {
        "id": "hKsfCYavoCpj"
      },
      "execution_count": null,
      "outputs": []
    },
    {
      "cell_type": "code",
      "source": [
        "target_transform = Lambda(lambda y: torch.zeros(\n",
        "    10, dtype=torch.float).scatter_(dim=0, index=torch.tensor(y), value=1))"
      ],
      "metadata": {
        "id": "lei3016JoaKi"
      },
      "execution_count": null,
      "outputs": []
    },
    {
      "cell_type": "code",
      "source": [
        "#Neural Network\n",
        "\n",
        "import os\n",
        "import torch\n",
        "from torch import nn\n",
        "from torch.utils.data import DataLoader\n",
        "from torchvision import datasets, transforms"
      ],
      "metadata": {
        "id": "SyPuHBqmo92X"
      },
      "execution_count": null,
      "outputs": []
    },
    {
      "cell_type": "code",
      "source": [
        "#Accelerator\n",
        "\n",
        "device = torch.accelerator.current_accelerator().type if torch.accelerator.is_available() else \"cpu\"\n",
        "print(f\"Using {device} device\")"
      ],
      "metadata": {
        "colab": {
          "base_uri": "https://localhost:8080/"
        },
        "id": "OwXMBmadqLry",
        "outputId": "3fdcf30b-a8b8-4359-bf35-085b97a4a7d0"
      },
      "execution_count": null,
      "outputs": [
        {
          "output_type": "stream",
          "name": "stdout",
          "text": [
            "Using cpu device\n"
          ]
        }
      ]
    },
    {
      "cell_type": "code",
      "source": [
        "#Define Class\n",
        "\n",
        "class NeuralNetwork(nn.Module):\n",
        "    def __init__(self):\n",
        "        super().__init__()\n",
        "        self.flatten = nn.Flatten()\n",
        "        self.linear_relu_stack = nn.Sequential(\n",
        "            nn.Linear(3*32*32, 512),\n",
        "            nn.ReLU(),\n",
        "            nn.Linear(512, 512),\n",
        "            nn.ReLU(),\n",
        "            nn.Linear(512, 10),\n",
        "        )\n",
        "\n",
        "    def forward(self, x):\n",
        "        x = self.flatten(x)\n",
        "        logits = self.linear_relu_stack(x)\n",
        "        return logits"
      ],
      "metadata": {
        "id": "4_OvcEuyqPvf"
      },
      "execution_count": null,
      "outputs": []
    },
    {
      "cell_type": "code",
      "source": [
        "model = NeuralNetwork().to(device)\n",
        "print(model)"
      ],
      "metadata": {
        "colab": {
          "base_uri": "https://localhost:8080/"
        },
        "id": "Hu3rkrpNqYN4",
        "outputId": "20354d79-e87a-479a-cf62-145a8a39d8c9"
      },
      "execution_count": null,
      "outputs": [
        {
          "output_type": "stream",
          "name": "stdout",
          "text": [
            "NeuralNetwork(\n",
            "  (flatten): Flatten(start_dim=1, end_dim=-1)\n",
            "  (linear_relu_stack): Sequential(\n",
            "    (0): Linear(in_features=3072, out_features=512, bias=True)\n",
            "    (1): ReLU()\n",
            "    (2): Linear(in_features=512, out_features=512, bias=True)\n",
            "    (3): ReLU()\n",
            "    (4): Linear(in_features=512, out_features=10, bias=True)\n",
            "  )\n",
            ")\n"
          ]
        }
      ]
    },
    {
      "cell_type": "code",
      "source": [
        "X = torch.rand(1, 3, 32, 32, device=device)\n",
        "logits = model(X)\n",
        "pred_probab = nn.Softmax(dim=1)(logits)\n",
        "y_pred = pred_probab.argmax(1)\n",
        "print(f\"Predicted class: {y_pred}\")"
      ],
      "metadata": {
        "colab": {
          "base_uri": "https://localhost:8080/"
        },
        "id": "332GyD7qqcGe",
        "outputId": "280757b5-0636-4f88-f20d-29b0d8782164"
      },
      "execution_count": null,
      "outputs": [
        {
          "output_type": "stream",
          "name": "stdout",
          "text": [
            "Predicted class: tensor([2])\n"
          ]
        }
      ]
    },
    {
      "cell_type": "code",
      "source": [
        "#Model Layers\n",
        "\n",
        "input_image = torch.rand(3,28,28)\n",
        "print(input_image.size())"
      ],
      "metadata": {
        "colab": {
          "base_uri": "https://localhost:8080/"
        },
        "id": "Vivtcv0kq42b",
        "outputId": "1449dfad-0d81-4e14-c6cf-4d22019e56ce"
      },
      "execution_count": null,
      "outputs": [
        {
          "output_type": "stream",
          "name": "stdout",
          "text": [
            "torch.Size([3, 28, 28])\n"
          ]
        }
      ]
    },
    {
      "cell_type": "code",
      "source": [
        "#nn.Flatten\n",
        "\n",
        "flatten = nn.Flatten()\n",
        "flat_image = flatten(input_image)\n",
        "print(flat_image.size())"
      ],
      "metadata": {
        "colab": {
          "base_uri": "https://localhost:8080/"
        },
        "id": "FYf_bix7rCGf",
        "outputId": "a50577cc-38fc-4309-f1d4-d4ff4f23cd7b"
      },
      "execution_count": null,
      "outputs": [
        {
          "output_type": "stream",
          "name": "stdout",
          "text": [
            "torch.Size([3, 784])\n"
          ]
        }
      ]
    },
    {
      "cell_type": "code",
      "source": [
        "#nn.Linear\n",
        "\n",
        "layer1 = nn.Linear(in_features=28*28, out_features=20)\n",
        "hidden1 = layer1(flat_image)\n",
        "print(hidden1.size())"
      ],
      "metadata": {
        "colab": {
          "base_uri": "https://localhost:8080/"
        },
        "id": "c4G3gxIurFGX",
        "outputId": "f5011f96-6f98-426a-de84-2f80b4bde002"
      },
      "execution_count": null,
      "outputs": [
        {
          "output_type": "stream",
          "name": "stdout",
          "text": [
            "torch.Size([3, 20])\n"
          ]
        }
      ]
    },
    {
      "cell_type": "code",
      "source": [
        "#nn.RELU\n",
        "\n",
        "print(f\"Before ReLU: {hidden1}\\n\\n\")\n",
        "hidden1 = nn.ReLU()(hidden1)\n",
        "print(f\"After ReLU: {hidden1}\")"
      ],
      "metadata": {
        "colab": {
          "base_uri": "https://localhost:8080/"
        },
        "id": "rcx4pVW4rKPc",
        "outputId": "9627605f-708e-4784-fb1a-b0ff82a04794"
      },
      "execution_count": null,
      "outputs": [
        {
          "output_type": "stream",
          "name": "stdout",
          "text": [
            "Before ReLU: tensor([[-0.3252,  0.3535,  0.0180, -0.5734,  0.0733, -0.0079, -0.0058,  0.2859,\n",
            "         -0.4744,  0.3561, -0.0040, -0.2546,  0.5743,  0.2391,  0.0601,  0.0741,\n",
            "         -0.0857,  0.4361,  0.1879,  0.3174],\n",
            "        [ 0.1104,  0.1336,  0.1282, -0.2349,  0.6556, -0.0250,  0.1069,  0.0420,\n",
            "         -0.3319,  0.4635, -0.3697, -0.4220,  0.1581,  0.5151,  0.3773, -0.0441,\n",
            "         -0.0973, -0.1422, -0.3026,  0.3242],\n",
            "        [-0.2663,  0.2918, -0.0890, -0.2832,  0.2453,  0.1270,  0.4405,  0.0620,\n",
            "         -0.8707,  0.4226, -0.3215, -0.3512,  0.4605,  0.2629,  0.3138,  0.1637,\n",
            "         -0.1925, -0.1392,  0.1394,  0.3315]], grad_fn=<AddmmBackward0>)\n",
            "\n",
            "\n",
            "After ReLU: tensor([[0.0000, 0.3535, 0.0180, 0.0000, 0.0733, 0.0000, 0.0000, 0.2859, 0.0000,\n",
            "         0.3561, 0.0000, 0.0000, 0.5743, 0.2391, 0.0601, 0.0741, 0.0000, 0.4361,\n",
            "         0.1879, 0.3174],\n",
            "        [0.1104, 0.1336, 0.1282, 0.0000, 0.6556, 0.0000, 0.1069, 0.0420, 0.0000,\n",
            "         0.4635, 0.0000, 0.0000, 0.1581, 0.5151, 0.3773, 0.0000, 0.0000, 0.0000,\n",
            "         0.0000, 0.3242],\n",
            "        [0.0000, 0.2918, 0.0000, 0.0000, 0.2453, 0.1270, 0.4405, 0.0620, 0.0000,\n",
            "         0.4226, 0.0000, 0.0000, 0.4605, 0.2629, 0.3138, 0.1637, 0.0000, 0.0000,\n",
            "         0.1394, 0.3315]], grad_fn=<ReluBackward0>)\n"
          ]
        }
      ]
    },
    {
      "cell_type": "code",
      "source": [
        "#nn.Sequential\n",
        "\n",
        "seq_modules = nn.Sequential(\n",
        "    flatten,\n",
        "    layer1,\n",
        "    nn.ReLU(),\n",
        "    nn.Linear(20, 10)\n",
        ")\n",
        "input_image = torch.rand(3,28,28)\n",
        "logits = seq_modules(input_image)"
      ],
      "metadata": {
        "id": "8nfHgBT0rOjA"
      },
      "execution_count": null,
      "outputs": []
    },
    {
      "cell_type": "code",
      "source": [
        "#nn.SoftMax\n",
        "\n",
        "softmax = nn.Softmax(dim=1)\n",
        "pred_probab = softmax(logits)"
      ],
      "metadata": {
        "id": "7E_WbxGwrUxb"
      },
      "execution_count": null,
      "outputs": []
    },
    {
      "cell_type": "code",
      "source": [
        "#Model Parameters\n",
        "\n",
        "print(f\"Model structure: {model}\\n\\n\")\n",
        "\n",
        "for name, param in model.named_parameters():\n",
        "    print(f\"Layer: {name} | Size: {param.size()} | Values : {param[:2]} \\n\")"
      ],
      "metadata": {
        "colab": {
          "base_uri": "https://localhost:8080/"
        },
        "id": "r9TYumhurXYz",
        "outputId": "1cba1594-6baa-4e0f-b3b1-78b0d5acf20b"
      },
      "execution_count": null,
      "outputs": [
        {
          "output_type": "stream",
          "name": "stdout",
          "text": [
            "Model structure: NeuralNetwork(\n",
            "  (flatten): Flatten(start_dim=1, end_dim=-1)\n",
            "  (linear_relu_stack): Sequential(\n",
            "    (0): Linear(in_features=3072, out_features=512, bias=True)\n",
            "    (1): ReLU()\n",
            "    (2): Linear(in_features=512, out_features=512, bias=True)\n",
            "    (3): ReLU()\n",
            "    (4): Linear(in_features=512, out_features=10, bias=True)\n",
            "  )\n",
            ")\n",
            "\n",
            "\n",
            "Layer: linear_relu_stack.0.weight | Size: torch.Size([512, 3072]) | Values : tensor([[-0.0165, -0.0089,  0.0002,  ..., -0.0149,  0.0146, -0.0089],\n",
            "        [-0.0032,  0.0154, -0.0165,  ...,  0.0074, -0.0125, -0.0077]],\n",
            "       grad_fn=<SliceBackward0>) \n",
            "\n",
            "Layer: linear_relu_stack.0.bias | Size: torch.Size([512]) | Values : tensor([0.0063, 0.0179], grad_fn=<SliceBackward0>) \n",
            "\n",
            "Layer: linear_relu_stack.2.weight | Size: torch.Size([512, 512]) | Values : tensor([[-0.0331,  0.0104, -0.0397,  ...,  0.0289, -0.0188, -0.0153],\n",
            "        [ 0.0198,  0.0402, -0.0232,  ..., -0.0319,  0.0317,  0.0097]],\n",
            "       grad_fn=<SliceBackward0>) \n",
            "\n",
            "Layer: linear_relu_stack.2.bias | Size: torch.Size([512]) | Values : tensor([ 0.0046, -0.0022], grad_fn=<SliceBackward0>) \n",
            "\n",
            "Layer: linear_relu_stack.4.weight | Size: torch.Size([10, 512]) | Values : tensor([[ 0.0072, -0.0294, -0.0289,  ...,  0.0359, -0.0352, -0.0419],\n",
            "        [-0.0181, -0.0383, -0.0071,  ...,  0.0150, -0.0281,  0.0315]],\n",
            "       grad_fn=<SliceBackward0>) \n",
            "\n",
            "Layer: linear_relu_stack.4.bias | Size: torch.Size([10]) | Values : tensor([0.0315, 0.0220], grad_fn=<SliceBackward0>) \n",
            "\n"
          ]
        }
      ]
    },
    {
      "cell_type": "code",
      "source": [
        "#Optimizing Model Parameters\n",
        "\n",
        "learning_rate = 1e-3\n",
        "batch_size = 64\n",
        "epochs = 5"
      ],
      "metadata": {
        "id": "3PZKmvUYrcoA"
      },
      "execution_count": null,
      "outputs": []
    },
    {
      "cell_type": "code",
      "source": [
        "loss_fn = nn.CrossEntropyLoss()\n",
        "\n",
        "optimizer = torch.optim.SGD(model.parameters(), lr=learning_rate)"
      ],
      "metadata": {
        "id": "MmAJ1E4btBzP"
      },
      "execution_count": null,
      "outputs": []
    },
    {
      "cell_type": "code",
      "source": [
        "#Implementation\n",
        "\n",
        "def train_loop(dataloader, model, loss_fn, optimizer):\n",
        "    size = len(dataloader.dataset)\n",
        "\n",
        "    model.train()\n",
        "    for batch, (X, y) in enumerate(dataloader):\n",
        "        pred = model(X)\n",
        "        loss = loss_fn(pred, y)\n",
        "\n",
        "        loss.backward()\n",
        "        optimizer.step()\n",
        "        optimizer.zero_grad()\n",
        "\n",
        "        if batch % 100 == 0:\n",
        "            loss, current = loss.item(), batch * batch_size + len(X)\n",
        "            print(f\"loss: {loss:>7f}  [{current:>5d}/{size:>5d}]\")\n",
        "\n",
        "\n",
        "def test_loop(dataloader, model, loss_fn):\n",
        "\n",
        "    model.eval()\n",
        "    size = len(dataloader.dataset)\n",
        "    num_batches = len(dataloader)\n",
        "    test_loss, correct = 0, 0\n",
        "\n",
        "    with torch.no_grad():\n",
        "        for X, y in dataloader:\n",
        "            pred = model(X)\n",
        "            test_loss += loss_fn(pred, y).item()\n",
        "            correct += (pred.argmax(1) == y).type(torch.float).sum().item()\n",
        "\n",
        "    test_loss /= num_batches\n",
        "    correct /= size\n",
        "    print(f\"Test Error: \\n Accuracy: {(100*correct):>0.1f}%, Avg loss: {test_loss:>8f} \\n\")"
      ],
      "metadata": {
        "id": "ucCK9VnIshsb"
      },
      "execution_count": null,
      "outputs": []
    },
    {
      "cell_type": "code",
      "source": [
        "loss_fn = nn.CrossEntropyLoss()\n",
        "optimizer = torch.optim.SGD(model.parameters(), lr=learning_rate)\n",
        "\n",
        "epochs = 10\n",
        "for t in range(epochs):\n",
        "    print(f\"Epoch {t+1}\\n-------------------------------\")\n",
        "    train_loop(train_dataloader, model, loss_fn, optimizer)\n",
        "    test_loop(test_dataloader, model, loss_fn)\n",
        "print(\"Done!\")"
      ],
      "metadata": {
        "colab": {
          "base_uri": "https://localhost:8080/"
        },
        "id": "96uXTiARtIlc",
        "outputId": "3f39df23-8aba-42e0-fd36-3923a25b5a5c"
      },
      "execution_count": null,
      "outputs": [
        {
          "output_type": "stream",
          "name": "stdout",
          "text": [
            "Epoch 1\n",
            "-------------------------------\n",
            "loss: 2.297247  [   64/50000]\n",
            "loss: 2.303860  [ 6464/50000]\n",
            "loss: 2.289443  [12864/50000]\n",
            "loss: 2.282402  [19264/50000]\n",
            "loss: 2.279820  [25664/50000]\n",
            "loss: 2.271084  [32064/50000]\n",
            "loss: 2.277394  [38464/50000]\n",
            "loss: 2.267853  [44864/50000]\n",
            "Test Error: \n",
            " Accuracy: 14.6%, Avg loss: 2.268806 \n",
            "\n",
            "Epoch 2\n",
            "-------------------------------\n",
            "loss: 2.255388  [   64/50000]\n",
            "loss: 2.246287  [ 6464/50000]\n",
            "loss: 2.263666  [12864/50000]\n",
            "loss: 2.267894  [19264/50000]\n",
            "loss: 2.246803  [25664/50000]\n",
            "loss: 2.199228  [32064/50000]\n",
            "loss: 2.217363  [38464/50000]\n",
            "loss: 2.218894  [44864/50000]\n",
            "Test Error: \n",
            " Accuracy: 20.4%, Avg loss: 2.230825 \n",
            "\n",
            "Epoch 3\n",
            "-------------------------------\n",
            "loss: 2.228528  [   64/50000]\n",
            "loss: 2.202255  [ 6464/50000]\n",
            "loss: 2.243762  [12864/50000]\n",
            "loss: 2.217729  [19264/50000]\n",
            "loss: 2.190782  [25664/50000]\n",
            "loss: 2.194776  [32064/50000]\n",
            "loss: 2.179094  [38464/50000]\n",
            "loss: 2.137799  [44864/50000]\n",
            "Test Error: \n",
            " Accuracy: 22.7%, Avg loss: 2.180504 \n",
            "\n",
            "Epoch 4\n",
            "-------------------------------\n",
            "loss: 2.157972  [   64/50000]\n",
            "loss: 2.200670  [ 6464/50000]\n",
            "loss: 2.198081  [12864/50000]\n",
            "loss: 2.190034  [19264/50000]\n",
            "loss: 2.148678  [25664/50000]\n",
            "loss: 2.114438  [32064/50000]\n",
            "loss: 2.127074  [38464/50000]\n",
            "loss: 2.174813  [44864/50000]\n",
            "Test Error: \n",
            " Accuracy: 24.7%, Avg loss: 2.126274 \n",
            "\n",
            "Epoch 5\n",
            "-------------------------------\n",
            "loss: 2.112259  [   64/50000]\n",
            "loss: 2.114864  [ 6464/50000]\n",
            "loss: 2.127565  [12864/50000]\n",
            "loss: 2.065174  [19264/50000]\n",
            "loss: 2.174176  [25664/50000]\n",
            "loss: 2.022086  [32064/50000]\n",
            "loss: 2.101669  [38464/50000]\n",
            "loss: 2.063021  [44864/50000]\n",
            "Test Error: \n",
            " Accuracy: 27.1%, Avg loss: 2.081269 \n",
            "\n",
            "Epoch 6\n",
            "-------------------------------\n",
            "loss: 2.123787  [   64/50000]\n",
            "loss: 1.979670  [ 6464/50000]\n",
            "loss: 2.089283  [12864/50000]\n",
            "loss: 2.103745  [19264/50000]\n",
            "loss: 2.087271  [25664/50000]\n",
            "loss: 2.026183  [32064/50000]\n",
            "loss: 2.131912  [38464/50000]\n",
            "loss: 2.119323  [44864/50000]\n",
            "Test Error: \n",
            " Accuracy: 27.8%, Avg loss: 2.042880 \n",
            "\n",
            "Epoch 7\n",
            "-------------------------------\n",
            "loss: 2.015135  [   64/50000]\n",
            "loss: 2.007028  [ 6464/50000]\n",
            "loss: 1.979962  [12864/50000]\n",
            "loss: 2.005753  [19264/50000]\n",
            "loss: 1.996491  [25664/50000]\n",
            "loss: 2.097852  [32064/50000]\n",
            "loss: 2.064493  [38464/50000]\n",
            "loss: 2.001339  [44864/50000]\n",
            "Test Error: \n",
            " Accuracy: 29.3%, Avg loss: 2.011245 \n",
            "\n",
            "Epoch 8\n",
            "-------------------------------\n",
            "loss: 1.969070  [   64/50000]\n",
            "loss: 1.930363  [ 6464/50000]\n",
            "loss: 2.033688  [12864/50000]\n",
            "loss: 1.975105  [19264/50000]\n",
            "loss: 1.945661  [25664/50000]\n",
            "loss: 2.033629  [32064/50000]\n",
            "loss: 1.998587  [38464/50000]\n",
            "loss: 1.968850  [44864/50000]\n",
            "Test Error: \n",
            " Accuracy: 30.1%, Avg loss: 1.986279 \n",
            "\n",
            "Epoch 9\n",
            "-------------------------------\n",
            "loss: 1.976966  [   64/50000]\n",
            "loss: 1.950472  [ 6464/50000]\n",
            "loss: 1.840286  [12864/50000]\n",
            "loss: 2.008045  [19264/50000]\n",
            "loss: 1.933200  [25664/50000]\n",
            "loss: 1.992438  [32064/50000]\n",
            "loss: 1.978893  [38464/50000]\n",
            "loss: 1.923659  [44864/50000]\n",
            "Test Error: \n",
            " Accuracy: 30.4%, Avg loss: 1.964034 \n",
            "\n",
            "Epoch 10\n",
            "-------------------------------\n",
            "loss: 2.073258  [   64/50000]\n",
            "loss: 1.994840  [ 6464/50000]\n",
            "loss: 1.916705  [12864/50000]\n",
            "loss: 1.935224  [19264/50000]\n",
            "loss: 1.875564  [25664/50000]\n",
            "loss: 1.810640  [32064/50000]\n",
            "loss: 1.835588  [38464/50000]\n",
            "loss: 1.956038  [44864/50000]\n",
            "Test Error: \n",
            " Accuracy: 31.2%, Avg loss: 1.942478 \n",
            "\n",
            "Done!\n"
          ]
        }
      ]
    }
  ]
}